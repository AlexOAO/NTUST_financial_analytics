{
 "cells": [
  {
   "cell_type": "code",
   "execution_count": 15,
   "metadata": {},
   "outputs": [
    {
     "data": {
      "text/plain": [
       "RangeIndex(start=0, stop=3, step=1)"
      ]
     },
     "execution_count": 15,
     "metadata": {},
     "output_type": "execute_result"
    }
   ],
   "source": [
    "import pandas as pd\n",
    "#透過dict去定義dataframe\n",
    "a = {'open':[1,2,3],\n",
    "     'close':[4,5,6]}\n",
    "df = pd.DataFrame(a)\n",
    "df.columns\n",
    "df.index"
   ]
  },
  {
   "cell_type": "code",
   "execution_count": 16,
   "metadata": {},
   "outputs": [],
   "source": [
    "#透過list 去定義dataframe\n",
    "b = [[1,2,3],\n",
    "     [4,5,6],\n",
    "     [7,8,9],\n",
    "     [10,11,12]]\n",
    "df2 = pd.DataFrame(b)\n",
    "df2_1 =df2.transpose()\n",
    "df2.columns = ['no1','no2','no3']"
   ]
  },
  {
   "cell_type": "code",
   "execution_count": 17,
   "metadata": {},
   "outputs": [
    {
     "data": {
      "text/plain": [
       "no1    int64\n",
       "no2    int64\n",
       "no3    int64\n",
       "dtype: object"
      ]
     },
     "execution_count": 17,
     "metadata": {},
     "output_type": "execute_result"
    }
   ],
   "source": [
    "# dataframe 常用屬性\n",
    "# 1.方法（函數）2.屬性（變數）\n",
    "df2.shape #面積\n",
    "df2.ndim #二維資料\n",
    "df2.dtypes #屬性"
   ]
  },
  {
   "cell_type": "code",
   "execution_count": null,
   "metadata": {},
   "outputs": [],
   "source": [
    "#取得欄位資料\n",
    "type(df2)\n",
    "df2['no2']\n",
    "type(df2['no2'])\n",
    "df2.no2\n",
    "\n",
    "#取得欄位細節 \n",
    "df2.info() #物件方法.（函數）\n",
    "max([1,2,3])#一般函數\n",
    "\n",
    "df2.describe()\n",
    "df2.describe([.1,.2,.3])"
   ]
  },
  {
   "cell_type": "code",
   "execution_count": 20,
   "metadata": {},
   "outputs": [
    {
     "data": {
      "text/plain": [
       "5"
      ]
     },
     "execution_count": 20,
     "metadata": {},
     "output_type": "execute_result"
    }
   ],
   "source": [
    "#資料取得\n",
    "df2['no2'][1]\n"
   ]
  },
  {
   "cell_type": "code",
   "execution_count": 24,
   "metadata": {},
   "outputs": [
    {
     "data": {
      "text/plain": [
       "12"
      ]
     },
     "execution_count": 24,
     "metadata": {},
     "output_type": "execute_result"
    }
   ],
   "source": [
    "# locate 定位\n",
    "df2.loc[2,'no2']# dataframe.loc[index,column]\n",
    "df2.loc[3,'no3']"
   ]
  },
  {
   "cell_type": "code",
   "execution_count": 26,
   "metadata": {},
   "outputs": [],
   "source": [
    "#iloc integer locate只能用數值來定位\n",
    "df2.iloc[2,0]   #dataframe.iloc[ index id ,column id]\n",
    "#新增df欄位 #確保資料程度一致\n",
    "df2['no4'] = [1,2,3,4]"
   ]
  },
  {
   "cell_type": "code",
   "execution_count": 28,
   "metadata": {},
   "outputs": [],
   "source": [
    "#篩選資料\n",
    "df2['no4']      #df2[column]\n",
    "df2['no4']> 2   #condition\n",
    "df2_cond1 = df2[ df2['no4']> 2 ] #df2[bulin]\n",
    "\n",
    "#篩選資料 loc\n",
    "df2_cond2 = df2.loc[ df2['no4']> 2, 'no3']  #dataframe.loc[ index cond ,column ]"
   ]
  },
  {
   "cell_type": "code",
   "execution_count": null,
   "metadata": {},
   "outputs": [],
   "source": [
    "import yfinance\n",
    "import matplotlib.pyplot as plt"
   ]
  },
  {
   "cell_type": "code",
   "execution_count": null,
   "metadata": {},
   "outputs": [],
   "source": [
    "data1 = yfinance.download('VOO')\n",
    "data1.columns\n",
    "data1.head()\n",
    "data1.tail()\n",
    "plt.figure()\n",
    "data1['Open'].plot()\n",
    "plt.figure()\n",
    "data1['Open'].plot(legend=True)\n",
    "data1['Hign'].plot(legend=True)\n",
    "data1['Low'].plot(legend=True)\n",
    "#   pandas dataframe 分布圖\n",
    "data1['Open'].plot.hist()\n",
    "#   pandas dataframe 散點圖\n",
    "data1.plot.scatter('Open','Close')\n",
    "#   成交量與當日漲跌幅 散點圖\n",
    "data1['漲跌'] = data1['Close'] - data1['Open']\n",
    "data1.plot.scatter('Volume','漲跌')\n",
    "\n",
    "#   群組化\n",
    "# 1.分群 確定分群依據 \n",
    "# 2.統計 聚合\n",
    "#   分群特徵長度 要跟原資料長度相同\n",
    "data1.index.year \n",
    "gp = data1.groupby(data1.index.year) #分群依據\n",
    "#   統計 每年的最高收盤價\n",
    "gp['Close'].max()                   #()聚合函數\n",
    "gp['Volume'].sum()\n",
    "#   多因子分群\n",
    "gp2 = data1.groupby([data1.index.year,\n",
    "                    data1.index.month])\n",
    "rs = gp2['Volume'].sum()\n",
    "\n",
    "#   transform\n",
    "gp2['Volume'].transform('sum')\n",
    "data1['當月總成交量'] = gp2['Volume'].transform('sum')\n",
    "\n",
    "\n",
    "def close_stats(group):\n",
    "    return pd.Series({\n",
    "        'mean':group['Close'].mean(),\n",
    "        'Total':group['Close'].sum()\n",
    "    })\n",
    "\n",
    "#   groupby apply\n",
    "gp2.apply(close_stats)"
   ]
  },
  {
   "cell_type": "code",
   "execution_count": null,
   "metadata": {},
   "outputs": [],
   "source": [
    "#   時間序列\n",
    "data2 = pd.read_csv()\n",
    "\n",
    "#   去將時間欄位 轉成 python時間格式\n",
    "pd.to_datetime(data2['Date'])    #轉換Series to datetime\n",
    "#   將時間欄位 設定為索引\n",
    "data2 = data2.set_index('Date') \n",
    "#   時間序列 更快速依照時間篩選資料\n",
    "data2.loc['2023'] \n",
    "data2.loc['2023-01']\n",
    "data2.loc['2023-01':'2023-04'] \n",
    " \n",
    "#   resample\n",
    "data2.resample('M')['Volume'].sum()\n",
    "#   將日Ｋ轉月Ｋ\n",
    "data2.resample('M')['Volume'].agg({'Open':'first'})\n",
    "#   如何在當天的行數 取得過去的資訊(lag)\n",
    "data2['昨收'] = data2['Close'].shift(1)\n",
    "data2['前日收'] = data2['Close'].shift(2)\n",
    "data2['明日收'] = data2['Close'].shift(-1)\n",
    "\n",
    "data2['Adj Close'].diff(1)\n",
    "#   取得同一欄位與前一筆的差 diff\n",
    "data2['還原報酬率'] = data2['Adj Close'].diff(1)/data2['Close'].shift(1)\n",
    "\n",
    "#   累計相乘 cumprod\n",
    "(data2['還原報酬率']+1).cumprod().plot()\n",
    "#   累積相加 cumsum\n",
    "#   累積最大 cummax\n",
    "(data2['還原報酬率']+1).cumprod().cummax.plot()\n",
    "#   累積最小 cummin\n",
    "(data2['還原報酬率']+1).cumprod().cummin.plot()\n",
    "#   移動窗格 rolling window\n",
    "#   設定完窗格範圍  聚合函數\n",
    "data2['移動平均線'] = data2.rolling(3)['Close'].mean()\n",
    "\n",
    "data2['壓力'] = data2.rolling(20)['High'].max()\n",
    "data2['支撐'] = data2.rolling(20)['Low'].min()\n",
    "data2['Close'].plot()\n",
    "data2['壓力'].plot()\n",
    "data2['支撐'].plot()\n",
    "#   寫入檔案\n",
    "data2.to_csv('')\n",
    "\n"
   ]
  },
  {
   "cell_type": "code",
   "execution_count": null,
   "metadata": {},
   "outputs": [],
   "source": [
    "#pip3 install FinMind\n",
    "from FinMind.data import DataLoader\n",
    "\n",
    "api = DataLoader()\n",
    "# api.login_by_token(api_token='token')\n",
    "# api.login(user_id='user_id',password='password')\n",
    "# 取得股權分散表的歷史資料\n",
    "holding_shares = api.taiwan_stock_holding_shares_per(\n",
    "    stock_id=\"2330\",\n",
    "    start_date='2001-01-01',\n",
    "    end_date='2020-04-12'\n",
    ")\n",
    "#   資料結構轉換?\n",
    "holding_shares['date'] = pd.to_datetime(holding_shares['date'])\n",
    "holding_shares_1 = holding_shares.pivot(index='date',\n",
    "                                        columns = 'HoldingSharesLevel',\n",
    "                                        values = 'percent'\n",
    "                                        )\n",
    "#   時間序列合併 前提為 index ==datetime\n",
    "stock_price = yfinance.download('0050.TW')\n",
    "#   表格合併 依照欄位或者是索引 concat\n",
    "#   預設欄位合併\n",
    "combind_data0 = pd.concat([stock_price,holding_shares_1])\n",
    "#   設定為index 合併\n",
    "combind_data = pd.concat([stock_price,holding_shares_1], axis=1)\n",
    "\n",
    "#   補齊資料\n",
    "tmp_columns = ['',\n",
    "    \n",
    "                ]\n",
    "#   資料向前補齊na值 ffill\n",
    "combind_data[tmp_columns] = combind_data[tmp_columns].ffill()\n",
    "\n",
    "#   資料清洗 \n",
    "#   isna 是判斷series 裡是為空值\n",
    "#   notna 是判斷series裡不是為空值\n",
    "combind_data[combind_data['Open'].isna()]\n",
    "combind_data[combind_data['Open'].notna()]\n",
    "combind_data[combind_data['1-999'].notna()]\n",
    "\n",
    "\n"
   ]
  },
  {
   "cell_type": "code",
   "execution_count": null,
   "metadata": {},
   "outputs": [],
   "source": [
    "#pip install mplfinance\n",
    "import mplfinance as mpf\n",
    "#   該函數成功條件\n",
    "#   1.會自動抓取dataframe 的Open High Low Close Volume\n",
    "#   2.並且Dataframe一定要是時間序列\n",
    "mpf.plot(combind_data)\n",
    "mpf.plot(combind_data,type='candle')\n",
    "mpf.plot(combind_data,type='candle',style='charles')\n",
    "\n",
    "mpf.available_styles()\n",
    "\n",
    "#設定 紅漲綠跌 的樣式\n",
    "mcolor = mpf.make_marketcolors(up='r', down='g', inherit=True)\n",
    "mstyle = mpf.make_mpf_style(base_mpf_style='charles', marketcolors=mcolor)\n",
    "mpf.plot(combind_data, type='candle', style=mstyle)"
   ]
  },
  {
   "cell_type": "code",
   "execution_count": null,
   "metadata": {},
   "outputs": [],
   "source": [
    "# 將股權分散表 去進行計算\n",
    "# 30張以下 視為小股東\n",
    "# 30~600張 視為中實戶\n",
    "# 600張以上 視為大股東\n",
    "小股東欄位 = ['1-999', '1,000-5,000', '5,001-10,000',\n",
    "         '10,001-15,000', '15,001-20,000', '20,001-30,000', ]\n",
    "大股東欄位 = ['600,001-800,000', '800,001-1,000,000', 'more than 1,000,001']\n",
    "combind_data['小股東'] = combind_data[小股東欄位].sum(axis=1)\n",
    "combind_data['大股東'] = combind_data[大股東欄位].sum(axis=1)\n",
    "\n",
    "# 新增附圖的物件 panel由0-9 0是主圖：Ｋ線圖 附圖可畫9個\n",
    "addp = []       #把附圖裝進箱子\n",
    "addp.append(mpf.make_addplot(combind_data['小股東'], panel=1))\n",
    "addp.append(mpf.make_addplot(combind_data['大股東'],panel=2))\n",
    "mpf.plot(combind_data, type='candle', style=mstyle, addplot=addp)\n"
   ]
  }
 ],
 "metadata": {
  "kernelspec": {
   "display_name": "test",
   "language": "python",
   "name": "python3"
  },
  "language_info": {
   "codemirror_mode": {
    "name": "ipython",
    "version": 3
   },
   "file_extension": ".py",
   "mimetype": "text/x-python",
   "name": "python",
   "nbconvert_exporter": "python",
   "pygments_lexer": "ipython3",
   "version": "3.9.18"
  },
  "orig_nbformat": 4
 },
 "nbformat": 4,
 "nbformat_minor": 2
}
